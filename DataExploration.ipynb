import pandas as pd
from IPython.display import display

# Load data
train = pd.read_csv('train.csv')
test = pd.read_csv('test.csv')
songs = pd.read_csv('songs.csv')
members = pd.read_csv('members.csv')
song_extra_info = pd.read_csv('song_extra_info.csv')

# Display the first few rows of each DataFrame
display(train.head())
display(test.head())
display(songs.head())
display(members.head())
display(song_extra_info.head())




